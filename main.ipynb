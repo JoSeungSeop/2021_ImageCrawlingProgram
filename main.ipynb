{
 "cells": [
  {
   "cell_type": "code",
   "execution_count": 1,
   "metadata": {},
   "outputs": [],
   "source": [
    "from selenium import webdriver\n",
    "#셀레니움은 통해서 webdriver 호출해서 사용\n",
    "\n",
    "from selenium.webdriver.common.by import By\n",
    "from selenium.webdriver.support.ui import WebDriverWait\n",
    "from selenium.webdriver.support import expected_conditions as EC\n",
    "#로딩 완료했는지 인식하려는 용도\n",
    "\n",
    "from bs4 import BeautifulSoup as bs\n",
    "#html 불러오는 라이브러리 -> bs 호출해서 사용\n",
    "import urllib.request\n",
    "#url에서 여러가지 작업할 때 사용하는 라이브러리\n",
    "\n",
    "import os\n",
    "from time import sleep"
   ]
  },
  {
   "cell_type": "code",
   "execution_count": 2,
   "metadata": {},
   "outputs": [],
   "source": [
    "# Selenium ChromeDriver 실행\n",
    "driver = webdriver.Chrome('./chromedriver/chromedriver')\n",
    "#드라이버 실행\n",
    "\n",
    "driver.implicitly_wait(3)\n",
    "#드라이버 대기 시간 세팅(3초 대기)"
   ]
  },
  {
   "cell_type": "code",
   "execution_count": 3,
   "metadata": {
    "scrolled": false
   },
   "outputs": [],
   "source": [
    "wonkwang_band_url = 'https://band.us/band/63528563'\n",
    "# URL 접속\n",
    "\n",
    "driver.get(wonkwang_band_url)\n",
    "# 밴드 사이트로 접속"
   ]
  },
  {
   "cell_type": "code",
   "execution_count": 32,
   "metadata": {},
   "outputs": [],
   "source": [
    "# chromedriver html 반환 함수\n",
    "def get_html(driver):\n",
    "    \n",
    "    html = driver.page_source\n",
    "    # 변수에 html 소스 담음\n",
    "    \n",
    "    soup = bs(html, 'html.parser')\n",
    "    # bs html.parser 규격에 맞게 정리해줌(파싱할 때 편리)\n",
    "    \n",
    "    return soup"
   ]
  },
  {
   "cell_type": "code",
   "execution_count": 34,
   "metadata": {},
   "outputs": [],
   "source": [
    "# 이미지 저장 함수\n",
    "def get_img(img_url_list, foldername, filename):\n",
    "    \n",
    "    print(\"---get_img : {}---\".format(filename))\n",
    "    \n",
    "    for img_num in range(0, len(img_url_list)):\n",
    "        url = img_url_list[img_num]\n",
    "        img_name = foldername+\"/\"+filename+\"/\"+filename+\"({}).jpg\".format(img_num+1)\n",
    "        \n",
    "#       만약 같은 이름의 이미지가 이미 있는 경우 저장 안함\n",
    "        if os.path.exists(img_name):\n",
    "            continue\n",
    "        else:\n",
    "#           없으면 이미지 저장함\n",
    "            urllib.request.urlretrieve(url, img_name)"
   ]
  },
  {
   "cell_type": "code",
   "execution_count": 35,
   "metadata": {},
   "outputs": [],
   "source": [
    "board_list = driver.find_elements_by_css_selector('div.postText._postText')\n",
    "# 보드 리스트(게시물 객체들을 리스트로 파싱해옴)\n",
    "\n",
    "soup = get_html(driver)\n",
    "# 현재 페이지의 html주소를 가져와서\n",
    "emo_raws = soup.select('a._emoteMainBtn')\n",
    "# 게시물들의 표정상태들을 파싱함\n",
    "\n",
    "todo_list = []\n",
    "# 배열 : 표정이 안 입력되어있는 게시물들 인덱스 수집용\n",
    "\n",
    "\n",
    "# 만약 표정을 안 입력한 상태(표정짓기)인 경우 배열에 '표정 짓기' 상태인 게시물 인덱스를 추가함\n",
    "for idx in range(0,len(emo_raws)):\n",
    "    emo_text = emo_raws[idx].text.strip()\n",
    "    if emo_text == '표정짓기':\n",
    "        todo_list.append(idx)\n",
    "        "
   ]
  },
  {
   "cell_type": "code",
   "execution_count": 36,
   "metadata": {
    "scrolled": false
   },
   "outputs": [
    {
     "name": "stdout",
     "output_type": "stream",
     "text": [
      "---get_img : 2020년 06월 25일 목요일_고흥 유리 온실 태양광_구조물 설치, 모듈 조립 및 볼트 체결_고형율 외 5명---\n",
      "---get_img : 2020년 06월 24일 수요일_고흥 유리 온실 태양광_자재 양중 및 포스트, 가더 설치_고형율 외 5명---\n",
      "---get_img : 2020년 06월 23일 화요일_고흥 유리 온실 태양광_앙카 볼트 레벨 작업_고형율 외 4명---\n",
      "---get_img : 2020년 06월 22일 월요일_고흥 유리 온실 태양광_먹줄 및 앙카 작업_고형율 외 3명---\n",
      "---get_img : 2020년 06월 18일 목요일_오산 엘오티베큠_준공검사 후속조치_이정규 남승현 김종성 이도환---\n"
     ]
    }
   ],
   "source": [
    "# 본격적인 이미지와 텍스트 크롤링\n",
    "for idx in todo_list:\n",
    "    board_list[idx].click()\n",
    "#   표정짓기 상태인 게시물만 클릭(게시물 오픈)\n",
    "    \n",
    "#   로딩 완료 체크\n",
    "    try:\n",
    "        element_text = WebDriverWait(driver, 10).until(\n",
    "            EC.presence_of_element_located((By.CSS_SELECTOR, \"div.txtBody\"))\n",
    "        )\n",
    "        \n",
    "        element_img = WebDriverWait(driver, 10).until(\n",
    "            EC.presence_of_element_located((By.CSS_SELECTOR, \"section.cPostCard._postCard.-postCountLayerOn\"))\n",
    "        )\n",
    "    finally:\n",
    "        soup = get_html(driver)\n",
    "    \n",
    "    \n",
    "#   memo.txt\n",
    "    memo_raw = str(soup.select_one('div.txtBody'))\n",
    "    memo = memo_raw.replace('<div class=\"txtBody\">', '').replace('</div>', '').replace('<br/>','\\n').strip()\n",
    "    \n",
    "    \n",
    "#   텍스트 크롤링 및 파싱\n",
    "    textfield_raw = soup.select_one('div.txtBody').text\n",
    "    textfield = textfield_raw.replace(':','.').split('.')\n",
    "\n",
    "    \n",
    "#   텍스트 파싱\n",
    "    sitename_idx = 2\n",
    "    date_idx = 4\n",
    "    work_idx = 6\n",
    "    member_idx = 8\n",
    "\n",
    "    \n",
    "#   파싱한 텍스트 변수화\n",
    "    sitename = textfield[sitename_idx][:-1].strip()\n",
    "    date = textfield[date_idx][:-1].strip()\n",
    "    work = textfield[work_idx][:-1].strip()\n",
    "    member = textfield[member_idx][:-1].strip()\n",
    "\n",
    "    \n",
    "#   filename 생성\n",
    "    filename = date+\"_\"+sitename+\"_\"+work+\"_\"+member\n",
    "    \n",
    "    \n",
    "#   이미지 URL 크롤링\n",
    "    img_section = soup.select_one('section.cPostCard._postCard.-postCountLayerOn')\n",
    "    img_tag_list = img_section.select('li.collageItem > a > img')\n",
    "    img_url_list = []\n",
    "    for img_tag in img_tag_list:\n",
    "        img_url_list.append(img_tag.get('src'))\n",
    "        \n",
    "#   폴더 경로 정의\n",
    "    foldername_1depth = sitename\n",
    "    foldername_2depth = foldername_1depth +\"/\"+filename\n",
    "    \n",
    "#   만약 폴더가 없을 경우 폴더 생성\n",
    "    if not os.path.exists(foldername_1depth):\n",
    "        os.mkdir(foldername_1depth)\n",
    "    if not os.path.exists(foldername_2depth):\n",
    "        os.mkdir(foldername_2depth)\n",
    "\n",
    "#   txt파일로 텍스트 내용 저장\n",
    "    f = open(foldername_2depth+\"/\"+filename+\".txt\", 'w')\n",
    "    f.write(memo)\n",
    "    f.close()\n",
    "    \n",
    "#   이미지 저장\n",
    "    get_img(img_url_list, foldername_1depth, filename)\n",
    "    \n",
    "#   게시물 닫음\n",
    "    close_btn = driver.find_element_by_css_selector('button.btnCloseLyPost._btnClose')\n",
    "    close_btn.click()"
   ]
  }
 ],
 "metadata": {
  "kernelspec": {
   "display_name": "Python 3",
   "language": "python",
   "name": "python3"
  },
  "language_info": {
   "codemirror_mode": {
    "name": "ipython",
    "version": 3
   },
   "file_extension": ".py",
   "mimetype": "text/x-python",
   "name": "python",
   "nbconvert_exporter": "python",
   "pygments_lexer": "ipython3",
   "version": "3.7.6"
  }
 },
 "nbformat": 4,
 "nbformat_minor": 4
}
